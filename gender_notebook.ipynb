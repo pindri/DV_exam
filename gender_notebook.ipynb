{
 "cells": [
  {
   "cell_type": "markdown",
   "metadata": {},
   "source": [
    "# Gender distribution across the years"
   ]
  },
  {
   "cell_type": "markdown",
   "metadata": {},
   "source": [
    "In order to decide the gender of a person, the `gender_guesser` library can be used to analyse the first name. Running\n",
    "```python\n",
    "import sys\n",
    "!{sys.executable} -m pip install gender_guesser --user\n",
    "```\n",
    "should install the package."
   ]
  },
  {
   "cell_type": "code",
   "execution_count": 1,
   "metadata": {},
   "outputs": [],
   "source": [
    "import gender_guesser.detector as gender # Gender detector for first names.\n",
    "import pandas as pd\n",
    "import json\n",
    "import matplotlib.pyplot as plt\n",
    "import numpy as np\n",
    "import timer"
   ]
  },
  {
   "cell_type": "markdown",
   "metadata": {},
   "source": [
    "## Across time"
   ]
  },
  {
   "cell_type": "code",
   "execution_count": null,
   "metadata": {},
   "outputs": [],
   "source": [
    "df = pd.read_json(\"imdb_dataset_parsed.json\")\n",
    "\n",
    "# Keep only useful columns and remove NaNs.\n",
    "df = pd.DataFrame(df[['year', 'actors', 'directors']].dropna())\n",
    "\n",
    "df['year'] = df['year'].astype(int)"
   ]
  },
  {
   "cell_type": "code",
   "execution_count": 16,
   "metadata": {},
   "outputs": [],
   "source": [
    "# Keep only first three (protagonists) actors for each film.\n",
    "def createProtagonists(row):\n",
    "    names_list = row['actors']\n",
    "    return names_list[:3]\n",
    "\n",
    "df['protagonists'] = df.apply(lambda row: createProtagonists(row), axis = 1) "
   ]
  },
  {
   "cell_type": "code",
   "execution_count": null,
   "metadata": {},
   "outputs": [],
   "source": [
    "# Aggregate entries by year.\n",
    "df = df.groupby('year', as_index = False).agg({'actors':'sum',\n",
    "                                               'directors':'sum',\n",
    "                                               'protagonists':'sum'})\n",
    "\n",
    "# 2019 has very few entries, drop that row.\n",
    "df = df[df['year'] != 2019]"
   ]
  },
  {
   "cell_type": "code",
   "execution_count": null,
   "metadata": {},
   "outputs": [],
   "source": [
    "df.head()"
   ]
  },
  {
   "cell_type": "code",
   "execution_count": 15,
   "metadata": {},
   "outputs": [],
   "source": [
    "def malePercentage(row, column_name):\n",
    "    names_list = row[column_name]\n",
    "    genders = []\n",
    "    \n",
    "    # Load gender detector.\n",
    "    d = gender.Detector(case_sensitive = False)\n",
    "    \n",
    "    for name in names_list:\n",
    "        name = name.split(' ')\n",
    "        # Transforms names like ['J.', 'Stuart', 'Blackton'] in\n",
    "        # ['Stuart', 'Blackton'].\n",
    "        name = [x for x in name if not x.endswith(\".\")]\n",
    "        # Some names might now be empty.\n",
    "        if name:\n",
    "            genders.append(d.get_gender(name[0]))\n",
    "        \n",
    "    # Consider only 'male' or 'female' results,\n",
    "    # excluding 'unknown', 'mostly_male' and 'mostly_female'.\n",
    "    genders = list(filter(lambda gen: gen == 'male' or \n",
    "                          gen == 'female', genders))\n",
    "    \n",
    "    if len(genders) > 0:\n",
    "        return genders.count('male')/len(genders)\n",
    "    else:\n",
    "        return np.nan"
   ]
  },
  {
   "cell_type": "code",
   "execution_count": null,
   "metadata": {},
   "outputs": [],
   "source": [
    "df['act_male_perc'] = df.apply(lambda row:\n",
    "                               malePercentage(row, 'actors'), axis = 1)\n",
    "df['dir_male_perc'] = df.apply(lambda row:\n",
    "                               malePercentage(row, 'directors'), axis = 1)\n",
    "df['pro_male_perc'] = df.apply(lambda row:\n",
    "                               malePercentage(row, 'protagonists'),axis = 1)"
   ]
  },
  {
   "cell_type": "code",
   "execution_count": null,
   "metadata": {},
   "outputs": [],
   "source": [
    "df.head()"
   ]
  },
  {
   "cell_type": "code",
   "execution_count": null,
   "metadata": {},
   "outputs": [],
   "source": [
    "df.plot(x = 'year', y = 'act_male_perc', ylim = (0, 1))"
   ]
  },
  {
   "cell_type": "markdown",
   "metadata": {},
   "source": [
    "Some useful info for annotation:\n",
    " * 1913: Alice Guy-Blaché, French filmmaker. The first woman to direct a film. Here with \"Dick Whittington and his Cat\" an _elaborate and spectacular production adapted from Old English fairy tale!_;\n",
    " * 2008: Kathryn Bigelow, first woman to win best director Oscar for \"The Hurt Locker\";"
   ]
  },
  {
   "cell_type": "code",
   "execution_count": null,
   "metadata": {},
   "outputs": [],
   "source": [
    "df.plot(x = 'year', y = 'dir_male_perc', ylim = (0, 1))"
   ]
  },
  {
   "cell_type": "code",
   "execution_count": null,
   "metadata": {},
   "outputs": [],
   "source": [
    "df.plot(x = 'year', y = 'pro_male_perc', ylim = (0, 1))"
   ]
  },
  {
   "cell_type": "code",
   "execution_count": null,
   "metadata": {},
   "outputs": [],
   "source": [
    "#df.drop(columns = ['actors', 'directors']).to_json(\"gender.json\",\n",
    "#                                                   orient = 'records')"
   ]
  },
  {
   "cell_type": "markdown",
   "metadata": {},
   "source": [
    "## Last years"
   ]
  },
  {
   "cell_type": "code",
   "execution_count": 4,
   "metadata": {},
   "outputs": [],
   "source": [
    "df = pd.read_json(\"imdb_dataset_parsed.json\")\n",
    "\n",
    "# Keep only useful columns and remove NaNs.\n",
    "df = pd.DataFrame(df[['year', 'actors', 'directors']].dropna())\n",
    "\n",
    "df['year'] = df['year'].astype(int)\n",
    "\n",
    "df = pd.DataFrame(df[df['year'] > 1999])"
   ]
  },
  {
   "cell_type": "code",
   "execution_count": 5,
   "metadata": {
    "scrolled": true
   },
   "outputs": [],
   "source": [
    "def directorGender(row):\n",
    "    director_list = row['directors']\n",
    "    genders = []\n",
    "    \n",
    "    # Load gender detector.\n",
    "    d = gender.Detector(case_sensitive = False)\n",
    "    \n",
    "    for name in director_list:\n",
    "        name = name.split(' ')\n",
    "        # Transforms names like ['J.', 'Stuart', 'Blackton'] in\n",
    "        # ['Stuart', 'Blackton'].\n",
    "        name = [x for x in name if not x.endswith(\".\")]\n",
    "        # Some names might now be empty.\n",
    "        if name:\n",
    "            genders.append(d.get_gender(name[0]))\n",
    "        \n",
    "    # Consider only 'male' or 'female' results,\n",
    "    # excluding 'unknown', 'mostly_male' and 'mostly_female'.\n",
    "    genders = list(filter(lambda gen: gen == 'male' or \n",
    "                          gen == 'female', genders))\n",
    "    \n",
    "    if len(genders) > 0:\n",
    "        if genders.count('male')/len(genders) > 0.5:\n",
    "            return \"male\"\n",
    "        else:\n",
    "            return \"female\"\n",
    "    else:\n",
    "        return np.nan"
   ]
  },
  {
   "cell_type": "code",
   "execution_count": 6,
   "metadata": {},
   "outputs": [
    {
     "name": "stdout",
     "output_type": "stream",
     "text": [
      "Executed 'Director genders'.  Elapsed time: 9915.071698s\n"
     ]
    }
   ],
   "source": [
    "# approx 2h45min for this cell.\n",
    "with timer.codeTimer(\"Director genders\"):\n",
    "    df['dir_gen'] = df.apply(lambda row:\n",
    "                             directorGender(row), axis = 1)"
   ]
  },
  {
   "cell_type": "code",
   "execution_count": 7,
   "metadata": {},
   "outputs": [],
   "source": [
    "#df.to_pickle('gender_df.pkl')"
   ]
  },
  {
   "cell_type": "code",
   "execution_count": 41,
   "metadata": {},
   "outputs": [
    {
     "data": {
      "text/html": [
       "<div>\n",
       "<style scoped>\n",
       "    .dataframe tbody tr th:only-of-type {\n",
       "        vertical-align: middle;\n",
       "    }\n",
       "\n",
       "    .dataframe tbody tr th {\n",
       "        vertical-align: top;\n",
       "    }\n",
       "\n",
       "    .dataframe thead th {\n",
       "        text-align: right;\n",
       "    }\n",
       "</style>\n",
       "<table border=\"1\" class=\"dataframe\">\n",
       "  <thead>\n",
       "    <tr style=\"text-align: right;\">\n",
       "      <th></th>\n",
       "      <th>year</th>\n",
       "      <th>actors</th>\n",
       "      <th>directors</th>\n",
       "      <th>dir_gen</th>\n",
       "      <th>protagonists</th>\n",
       "      <th>count</th>\n",
       "    </tr>\n",
       "  </thead>\n",
       "  <tbody>\n",
       "    <tr>\n",
       "      <th>0</th>\n",
       "      <td>2018</td>\n",
       "      <td>[Chris Hemsworth, Michael Shannon, Michael Peñ...</td>\n",
       "      <td>[Nicolai Fuglsig]</td>\n",
       "      <td>male</td>\n",
       "      <td>[Chris Hemsworth, Michael Shannon, Michael Peña]</td>\n",
       "      <td>1</td>\n",
       "    </tr>\n",
       "    <tr>\n",
       "      <th>3</th>\n",
       "      <td>2017</td>\n",
       "      <td>[Hugh Jackman, Patrick Stewart, Dafne Keen, Bo...</td>\n",
       "      <td>[James Mangold]</td>\n",
       "      <td>male</td>\n",
       "      <td>[Hugh Jackman, Patrick Stewart, Dafne Keen]</td>\n",
       "      <td>1</td>\n",
       "    </tr>\n",
       "    <tr>\n",
       "      <th>5</th>\n",
       "      <td>2018</td>\n",
       "      <td>[Jodie Foster, Sterling K. Brown, Sofia Boutel...</td>\n",
       "      <td>[Drew Pearce]</td>\n",
       "      <td>male</td>\n",
       "      <td>[Jodie Foster, Sterling K. Brown, Sofia Boutella]</td>\n",
       "      <td>1</td>\n",
       "    </tr>\n",
       "    <tr>\n",
       "      <th>8</th>\n",
       "      <td>2014</td>\n",
       "      <td>[Ralph Fiennes, F. Murray Abraham, Mathieu Ama...</td>\n",
       "      <td>[Wes Anderson]</td>\n",
       "      <td>male</td>\n",
       "      <td>[Ralph Fiennes, F. Murray Abraham, Mathieu Ama...</td>\n",
       "      <td>1</td>\n",
       "    </tr>\n",
       "    <tr>\n",
       "      <th>11</th>\n",
       "      <td>2011</td>\n",
       "      <td>[Chris Evans, Hayley Atwell, Sebastian Stan, T...</td>\n",
       "      <td>[Joe Johnston]</td>\n",
       "      <td>male</td>\n",
       "      <td>[Chris Evans, Hayley Atwell, Sebastian Stan]</td>\n",
       "      <td>1</td>\n",
       "    </tr>\n",
       "  </tbody>\n",
       "</table>\n",
       "</div>"
      ],
      "text/plain": [
       "    year                                             actors  \\\n",
       "0   2018  [Chris Hemsworth, Michael Shannon, Michael Peñ...   \n",
       "3   2017  [Hugh Jackman, Patrick Stewart, Dafne Keen, Bo...   \n",
       "5   2018  [Jodie Foster, Sterling K. Brown, Sofia Boutel...   \n",
       "8   2014  [Ralph Fiennes, F. Murray Abraham, Mathieu Ama...   \n",
       "11  2011  [Chris Evans, Hayley Atwell, Sebastian Stan, T...   \n",
       "\n",
       "            directors dir_gen  \\\n",
       "0   [Nicolai Fuglsig]    male   \n",
       "3     [James Mangold]    male   \n",
       "5       [Drew Pearce]    male   \n",
       "8      [Wes Anderson]    male   \n",
       "11     [Joe Johnston]    male   \n",
       "\n",
       "                                         protagonists  count  \n",
       "0    [Chris Hemsworth, Michael Shannon, Michael Peña]      1  \n",
       "3         [Hugh Jackman, Patrick Stewart, Dafne Keen]      1  \n",
       "5   [Jodie Foster, Sterling K. Brown, Sofia Boutella]      1  \n",
       "8   [Ralph Fiennes, F. Murray Abraham, Mathieu Ama...      1  \n",
       "11       [Chris Evans, Hayley Atwell, Sebastian Stan]      1  "
      ]
     },
     "execution_count": 41,
     "metadata": {},
     "output_type": "execute_result"
    }
   ],
   "source": [
    "gender_df = pd.read_pickle(\"gender_df.pkl\").dropna()\n",
    "gender_df['protagonists'] = gender_df.apply(lambda row: createProtagonists(row), axis = 1) \n",
    "gender_df[\"count\"] = 1\n",
    "gender_df.head()"
   ]
  },
  {
   "cell_type": "code",
   "execution_count": 42,
   "metadata": {},
   "outputs": [
    {
     "data": {
      "text/html": [
       "<div>\n",
       "<style scoped>\n",
       "    .dataframe tbody tr th:only-of-type {\n",
       "        vertical-align: middle;\n",
       "    }\n",
       "\n",
       "    .dataframe tbody tr th {\n",
       "        vertical-align: top;\n",
       "    }\n",
       "\n",
       "    .dataframe thead th {\n",
       "        text-align: right;\n",
       "    }\n",
       "</style>\n",
       "<table border=\"1\" class=\"dataframe\">\n",
       "  <thead>\n",
       "    <tr style=\"text-align: right;\">\n",
       "      <th></th>\n",
       "      <th>dir_gen</th>\n",
       "      <th>actors</th>\n",
       "      <th>protagonists</th>\n",
       "      <th>count</th>\n",
       "    </tr>\n",
       "  </thead>\n",
       "  <tbody>\n",
       "    <tr>\n",
       "      <th>0</th>\n",
       "      <td>female</td>\n",
       "      <td>[Graham Verchere, Judah Lewis, Caleb Emery, Co...</td>\n",
       "      <td>[Graham Verchere, Judah Lewis, Caleb Emery, Be...</td>\n",
       "      <td>2620</td>\n",
       "    </tr>\n",
       "    <tr>\n",
       "      <th>1</th>\n",
       "      <td>male</td>\n",
       "      <td>[Chris Hemsworth, Michael Shannon, Michael Peñ...</td>\n",
       "      <td>[Chris Hemsworth, Michael Shannon, Michael Peñ...</td>\n",
       "      <td>22206</td>\n",
       "    </tr>\n",
       "  </tbody>\n",
       "</table>\n",
       "</div>"
      ],
      "text/plain": [
       "  dir_gen                                             actors  \\\n",
       "0  female  [Graham Verchere, Judah Lewis, Caleb Emery, Co...   \n",
       "1    male  [Chris Hemsworth, Michael Shannon, Michael Peñ...   \n",
       "\n",
       "                                        protagonists  count  \n",
       "0  [Graham Verchere, Judah Lewis, Caleb Emery, Be...   2620  \n",
       "1  [Chris Hemsworth, Michael Shannon, Michael Peñ...  22206  "
      ]
     },
     "execution_count": 42,
     "metadata": {},
     "output_type": "execute_result"
    }
   ],
   "source": [
    "# May take a couple of minutes.\n",
    "gender_df = gender_df.groupby('dir_gen', as_index = False).agg({'actors':'sum', 'protagonists':'sum', 'count':'sum'})\n",
    "gender_df"
   ]
  },
  {
   "cell_type": "code",
   "execution_count": 43,
   "metadata": {},
   "outputs": [
    {
     "data": {
      "text/html": [
       "<div>\n",
       "<style scoped>\n",
       "    .dataframe tbody tr th:only-of-type {\n",
       "        vertical-align: middle;\n",
       "    }\n",
       "\n",
       "    .dataframe tbody tr th {\n",
       "        vertical-align: top;\n",
       "    }\n",
       "\n",
       "    .dataframe thead th {\n",
       "        text-align: right;\n",
       "    }\n",
       "</style>\n",
       "<table border=\"1\" class=\"dataframe\">\n",
       "  <thead>\n",
       "    <tr style=\"text-align: right;\">\n",
       "      <th></th>\n",
       "      <th>dir_gen</th>\n",
       "      <th>actors</th>\n",
       "      <th>protagonists</th>\n",
       "      <th>count</th>\n",
       "      <th>act_male_perc</th>\n",
       "      <th>pro_male_perc</th>\n",
       "    </tr>\n",
       "  </thead>\n",
       "  <tbody>\n",
       "    <tr>\n",
       "      <th>0</th>\n",
       "      <td>female</td>\n",
       "      <td>[Graham Verchere, Judah Lewis, Caleb Emery, Co...</td>\n",
       "      <td>[Graham Verchere, Judah Lewis, Caleb Emery, Be...</td>\n",
       "      <td>2620</td>\n",
       "      <td>0.572273</td>\n",
       "      <td>0.512658</td>\n",
       "    </tr>\n",
       "    <tr>\n",
       "      <th>1</th>\n",
       "      <td>male</td>\n",
       "      <td>[Chris Hemsworth, Michael Shannon, Michael Peñ...</td>\n",
       "      <td>[Chris Hemsworth, Michael Shannon, Michael Peñ...</td>\n",
       "      <td>22206</td>\n",
       "      <td>0.663395</td>\n",
       "      <td>0.665190</td>\n",
       "    </tr>\n",
       "  </tbody>\n",
       "</table>\n",
       "</div>"
      ],
      "text/plain": [
       "  dir_gen                                             actors  \\\n",
       "0  female  [Graham Verchere, Judah Lewis, Caleb Emery, Co...   \n",
       "1    male  [Chris Hemsworth, Michael Shannon, Michael Peñ...   \n",
       "\n",
       "                                        protagonists  count  act_male_perc  \\\n",
       "0  [Graham Verchere, Judah Lewis, Caleb Emery, Be...   2620       0.572273   \n",
       "1  [Chris Hemsworth, Michael Shannon, Michael Peñ...  22206       0.663395   \n",
       "\n",
       "   pro_male_perc  \n",
       "0       0.512658  \n",
       "1       0.665190  "
      ]
     },
     "execution_count": 43,
     "metadata": {},
     "output_type": "execute_result"
    }
   ],
   "source": [
    "gender_df['act_male_perc'] = gender_df.apply(lambda row:\n",
    "                                             malePercentage(row, 'actors'),\n",
    "                                             axis = 1)\n",
    "gender_df['pro_male_perc'] = gender_df.apply(lambda row:\n",
    "                                             malePercentage(row,\n",
    "                                                            'protagonists'),\n",
    "                                             axis = 1)\n",
    "\n",
    "gender_df"
   ]
  },
  {
   "cell_type": "code",
   "execution_count": null,
   "metadata": {},
   "outputs": [],
   "source": [
    "to_json(\"gender.json\", orient = 'records')"
   ]
  }
 ],
 "metadata": {
  "kernelspec": {
   "display_name": "Python 3",
   "language": "python",
   "name": "python3"
  },
  "language_info": {
   "codemirror_mode": {
    "name": "ipython",
    "version": 3
   },
   "file_extension": ".py",
   "mimetype": "text/x-python",
   "name": "python",
   "nbconvert_exporter": "python",
   "pygments_lexer": "ipython3",
   "version": "3.7.3"
  }
 },
 "nbformat": 4,
 "nbformat_minor": 4
}
