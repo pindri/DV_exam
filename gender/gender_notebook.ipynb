{
 "cells": [
  {
   "cell_type": "markdown",
   "metadata": {},
   "source": [
    "# Gender distribution across the years"
   ]
  },
  {
   "cell_type": "markdown",
   "metadata": {},
   "source": [
    "In order to decide the gender of a person, the `gender_guesser` library can be used to analyse the first name. Running\n",
    "```python\n",
    "import sys\n",
    "!{sys.executable} -m pip install gender_guesser --user\n",
    "```\n",
    "should install the package."
   ]
  },
  {
   "cell_type": "code",
   "execution_count": 1,
   "metadata": {},
   "outputs": [],
   "source": [
    "import gender_guesser.detector as gender # Gender detector for first names.\n",
    "import pandas as pd\n",
    "import json\n",
    "import matplotlib.pyplot as plt\n",
    "import numpy as np\n",
    "import timer"
   ]
  },
  {
   "cell_type": "markdown",
   "metadata": {},
   "source": [
    "## Across time"
   ]
  },
  {
   "cell_type": "code",
   "execution_count": 3,
   "metadata": {},
   "outputs": [],
   "source": [
    "df = pd.read_json(\"../imdb_dataset_parsed.json\")\n",
    "\n",
    "# Keep only useful columns and remove NaNs.\n",
    "df = pd.DataFrame(df[['year', 'actors', 'directors']].dropna())\n",
    "\n",
    "df['year'] = df['year'].astype(int)"
   ]
  },
  {
   "cell_type": "code",
   "execution_count": 4,
   "metadata": {},
   "outputs": [],
   "source": [
    "# Keep only first three (protagonists) actors for each film.\n",
    "def createProtagonists(row):\n",
    "    names_list = row['actors']\n",
    "    return names_list[:3]\n",
    "\n",
    "df['protagonists'] = df.apply(lambda row: createProtagonists(row), axis = 1) "
   ]
  },
  {
   "cell_type": "code",
   "execution_count": null,
   "metadata": {},
   "outputs": [],
   "source": [
    "# Aggregate entries by year.\n",
    "df = df.groupby('year', as_index = False).agg({'actors':'sum',\n",
    "                                               'directors':'sum',\n",
    "                                               'protagonists':'sum'})\n",
    "\n",
    "# 2019 has very few entries, drop that row.\n",
    "df = df[df['year'] != 2019]"
   ]
  },
  {
   "cell_type": "code",
   "execution_count": null,
   "metadata": {},
   "outputs": [],
   "source": [
    "df.head()"
   ]
  },
  {
   "cell_type": "code",
   "execution_count": 8,
   "metadata": {},
   "outputs": [],
   "source": [
    "def malePercentage(row, column_name):\n",
    "    names_list = row[column_name]\n",
    "    genders = []\n",
    "    \n",
    "    # Load gender detector.\n",
    "    d = gender.Detector(case_sensitive = False)\n",
    "    \n",
    "    for name in names_list:\n",
    "        name = name.split(' ')\n",
    "        # Transforms names like ['J.', 'Stuart', 'Blackton'] in\n",
    "        # ['Stuart', 'Blackton'].\n",
    "        name = [x for x in name if not x.endswith(\".\")]\n",
    "        # Some names might now be empty.\n",
    "        if name:\n",
    "            genders.append(d.get_gender(name[0]))\n",
    "        \n",
    "    # Consider only 'male' or 'female' results,\n",
    "    # excluding 'unknown', 'mostly_male' and 'mostly_female'.\n",
    "    genders = list(filter(lambda gen: gen == 'male' or \n",
    "                          gen == 'female', genders))\n",
    "    \n",
    "    if len(genders) > 0:\n",
    "        return genders.count('male')/len(genders)\n",
    "    else:\n",
    "        return np.nan"
   ]
  },
  {
   "cell_type": "code",
   "execution_count": null,
   "metadata": {},
   "outputs": [],
   "source": [
    "df['act_male_perc'] = df.apply(lambda row:\n",
    "                               malePercentage(row, 'actors'), axis = 1)\n",
    "df['dir_male_perc'] = df.apply(lambda row:\n",
    "                               malePercentage(row, 'directors'), axis = 1)\n",
    "df['pro_male_perc'] = df.apply(lambda row:\n",
    "                               malePercentage(row, 'protagonists'),axis = 1)"
   ]
  },
  {
   "cell_type": "code",
   "execution_count": null,
   "metadata": {},
   "outputs": [],
   "source": [
    "df.head()"
   ]
  },
  {
   "cell_type": "code",
   "execution_count": null,
   "metadata": {},
   "outputs": [],
   "source": [
    "df.plot(x = 'year', y = 'act_male_perc', ylim = (0, 1))"
   ]
  },
  {
   "cell_type": "markdown",
   "metadata": {},
   "source": [
    "Some useful info for annotation:\n",
    " * 1913: Alice Guy-Blaché, French filmmaker. The first woman to direct a film. Here with \"Dick Whittington and his Cat\" an _elaborate and spectacular production adapted from Old English fairy tale!_;\n",
    " * 2008: Kathryn Bigelow, first woman to win best director Oscar for \"The Hurt Locker\";"
   ]
  },
  {
   "cell_type": "code",
   "execution_count": null,
   "metadata": {},
   "outputs": [],
   "source": [
    "df.plot(x = 'year', y = 'dir_male_perc', ylim = (0, 1))"
   ]
  },
  {
   "cell_type": "code",
   "execution_count": null,
   "metadata": {},
   "outputs": [],
   "source": [
    "df.plot(x = 'year', y = 'pro_male_perc', ylim = (0, 1))"
   ]
  },
  {
   "cell_type": "code",
   "execution_count": null,
   "metadata": {},
   "outputs": [],
   "source": [
    "#df.drop(columns = ['actors', 'directors']).to_json(\"gender.json\",\n",
    "#                                                   orient = 'records')"
   ]
  },
  {
   "cell_type": "markdown",
   "metadata": {},
   "source": [
    "## Last years"
   ]
  },
  {
   "cell_type": "code",
   "execution_count": null,
   "metadata": {},
   "outputs": [],
   "source": [
    "df = pd.read_json(\"imdb_dataset_parsed.json\")\n",
    "\n",
    "# Keep only useful columns and remove NaNs.\n",
    "df = pd.DataFrame(df[['year', 'actors', 'directors']].dropna())\n",
    "\n",
    "df['year'] = df['year'].astype(int)\n",
    "\n",
    "df = pd.DataFrame(df[df['year'] > 1999])"
   ]
  },
  {
   "cell_type": "code",
   "execution_count": null,
   "metadata": {
    "scrolled": true
   },
   "outputs": [],
   "source": [
    "def directorGender(row):\n",
    "    director_list = row['directors']\n",
    "    genders = []\n",
    "    \n",
    "    # Load gender detector.\n",
    "    d = gender.Detector(case_sensitive = False)\n",
    "    \n",
    "    for name in director_list:\n",
    "        name = name.split(' ')\n",
    "        # Transforms names like ['J.', 'Stuart', 'Blackton'] in\n",
    "        # ['Stuart', 'Blackton'].\n",
    "        name = [x for x in name if not x.endswith(\".\")]\n",
    "        # Some names might now be empty.\n",
    "        if name:\n",
    "            genders.append(d.get_gender(name[0]))\n",
    "        \n",
    "    # Consider only 'male' or 'female' results,\n",
    "    # excluding 'unknown', 'mostly_male' and 'mostly_female'.\n",
    "    genders = list(filter(lambda gen: gen == 'male' or \n",
    "                          gen == 'female', genders))\n",
    "    \n",
    "    if len(genders) > 0:\n",
    "        if genders.count('male')/len(genders) > 0.5:\n",
    "            return \"male\"\n",
    "        else:\n",
    "            return \"female\"\n",
    "    else:\n",
    "        return np.nan"
   ]
  },
  {
   "cell_type": "code",
   "execution_count": null,
   "metadata": {},
   "outputs": [],
   "source": [
    "# approx 2h45min for this cell.\n",
    "with timer.codeTimer(\"Director genders\"):\n",
    "    df['dir_gen'] = df.apply(lambda row:\n",
    "                             directorGender(row), axis = 1)"
   ]
  },
  {
   "cell_type": "code",
   "execution_count": null,
   "metadata": {},
   "outputs": [],
   "source": [
    "#df.to_pickle('gender_df.pkl')"
   ]
  },
  {
   "cell_type": "code",
   "execution_count": 5,
   "metadata": {},
   "outputs": [
    {
     "data": {
      "text/html": [
       "<div>\n",
       "<style scoped>\n",
       "    .dataframe tbody tr th:only-of-type {\n",
       "        vertical-align: middle;\n",
       "    }\n",
       "\n",
       "    .dataframe tbody tr th {\n",
       "        vertical-align: top;\n",
       "    }\n",
       "\n",
       "    .dataframe thead th {\n",
       "        text-align: right;\n",
       "    }\n",
       "</style>\n",
       "<table border=\"1\" class=\"dataframe\">\n",
       "  <thead>\n",
       "    <tr style=\"text-align: right;\">\n",
       "      <th></th>\n",
       "      <th>year</th>\n",
       "      <th>actors</th>\n",
       "      <th>directors</th>\n",
       "      <th>dir_gen</th>\n",
       "      <th>protagonists</th>\n",
       "      <th>n_movies</th>\n",
       "      <th>n_actors</th>\n",
       "      <th>n_pro</th>\n",
       "    </tr>\n",
       "  </thead>\n",
       "  <tbody>\n",
       "    <tr>\n",
       "      <th>0</th>\n",
       "      <td>2018</td>\n",
       "      <td>[Chris Hemsworth, Michael Shannon, Michael Peñ...</td>\n",
       "      <td>[Nicolai Fuglsig]</td>\n",
       "      <td>male</td>\n",
       "      <td>[Chris Hemsworth, Michael Shannon, Michael Peña]</td>\n",
       "      <td>1</td>\n",
       "      <td>15</td>\n",
       "      <td>3</td>\n",
       "    </tr>\n",
       "    <tr>\n",
       "      <th>3</th>\n",
       "      <td>2017</td>\n",
       "      <td>[Hugh Jackman, Patrick Stewart, Dafne Keen, Bo...</td>\n",
       "      <td>[James Mangold]</td>\n",
       "      <td>male</td>\n",
       "      <td>[Hugh Jackman, Patrick Stewart, Dafne Keen]</td>\n",
       "      <td>1</td>\n",
       "      <td>15</td>\n",
       "      <td>3</td>\n",
       "    </tr>\n",
       "    <tr>\n",
       "      <th>5</th>\n",
       "      <td>2018</td>\n",
       "      <td>[Jodie Foster, Sterling K. Brown, Sofia Boutel...</td>\n",
       "      <td>[Drew Pearce]</td>\n",
       "      <td>male</td>\n",
       "      <td>[Jodie Foster, Sterling K. Brown, Sofia Boutella]</td>\n",
       "      <td>1</td>\n",
       "      <td>15</td>\n",
       "      <td>3</td>\n",
       "    </tr>\n",
       "    <tr>\n",
       "      <th>8</th>\n",
       "      <td>2014</td>\n",
       "      <td>[Ralph Fiennes, F. Murray Abraham, Mathieu Ama...</td>\n",
       "      <td>[Wes Anderson]</td>\n",
       "      <td>male</td>\n",
       "      <td>[Ralph Fiennes, F. Murray Abraham, Mathieu Ama...</td>\n",
       "      <td>1</td>\n",
       "      <td>15</td>\n",
       "      <td>3</td>\n",
       "    </tr>\n",
       "    <tr>\n",
       "      <th>11</th>\n",
       "      <td>2011</td>\n",
       "      <td>[Chris Evans, Hayley Atwell, Sebastian Stan, T...</td>\n",
       "      <td>[Joe Johnston]</td>\n",
       "      <td>male</td>\n",
       "      <td>[Chris Evans, Hayley Atwell, Sebastian Stan]</td>\n",
       "      <td>1</td>\n",
       "      <td>15</td>\n",
       "      <td>3</td>\n",
       "    </tr>\n",
       "  </tbody>\n",
       "</table>\n",
       "</div>"
      ],
      "text/plain": [
       "    year                                             actors  \\\n",
       "0   2018  [Chris Hemsworth, Michael Shannon, Michael Peñ...   \n",
       "3   2017  [Hugh Jackman, Patrick Stewart, Dafne Keen, Bo...   \n",
       "5   2018  [Jodie Foster, Sterling K. Brown, Sofia Boutel...   \n",
       "8   2014  [Ralph Fiennes, F. Murray Abraham, Mathieu Ama...   \n",
       "11  2011  [Chris Evans, Hayley Atwell, Sebastian Stan, T...   \n",
       "\n",
       "            directors dir_gen  \\\n",
       "0   [Nicolai Fuglsig]    male   \n",
       "3     [James Mangold]    male   \n",
       "5       [Drew Pearce]    male   \n",
       "8      [Wes Anderson]    male   \n",
       "11     [Joe Johnston]    male   \n",
       "\n",
       "                                         protagonists  n_movies  n_actors  \\\n",
       "0    [Chris Hemsworth, Michael Shannon, Michael Peña]         1        15   \n",
       "3         [Hugh Jackman, Patrick Stewart, Dafne Keen]         1        15   \n",
       "5   [Jodie Foster, Sterling K. Brown, Sofia Boutella]         1        15   \n",
       "8   [Ralph Fiennes, F. Murray Abraham, Mathieu Ama...         1        15   \n",
       "11       [Chris Evans, Hayley Atwell, Sebastian Stan]         1        15   \n",
       "\n",
       "    n_pro  \n",
       "0       3  \n",
       "3       3  \n",
       "5       3  \n",
       "8       3  \n",
       "11      3  "
      ]
     },
     "execution_count": 5,
     "metadata": {},
     "output_type": "execute_result"
    }
   ],
   "source": [
    "gender_df = pd.read_pickle(\"gender_df.pkl\").dropna()\n",
    "gender_df['protagonists'] = gender_df.apply(lambda row: createProtagonists(row), axis = 1) \n",
    "gender_df['n_movies'] = 1\n",
    "gender_df['n_actors'] = gender_df['actors'].apply(lambda row: len(row))\n",
    "gender_df['n_pro'] = gender_df['protagonists'].apply(lambda row: len(row))\n",
    "gender_df.head()"
   ]
  },
  {
   "cell_type": "code",
   "execution_count": 6,
   "metadata": {},
   "outputs": [
    {
     "data": {
      "text/html": [
       "<div>\n",
       "<style scoped>\n",
       "    .dataframe tbody tr th:only-of-type {\n",
       "        vertical-align: middle;\n",
       "    }\n",
       "\n",
       "    .dataframe tbody tr th {\n",
       "        vertical-align: top;\n",
       "    }\n",
       "\n",
       "    .dataframe thead th {\n",
       "        text-align: right;\n",
       "    }\n",
       "</style>\n",
       "<table border=\"1\" class=\"dataframe\">\n",
       "  <thead>\n",
       "    <tr style=\"text-align: right;\">\n",
       "      <th></th>\n",
       "      <th>dir_gen</th>\n",
       "      <th>actors</th>\n",
       "      <th>protagonists</th>\n",
       "      <th>n_movies</th>\n",
       "      <th>n_actors</th>\n",
       "      <th>n_pro</th>\n",
       "    </tr>\n",
       "  </thead>\n",
       "  <tbody>\n",
       "    <tr>\n",
       "      <th>0</th>\n",
       "      <td>female</td>\n",
       "      <td>[Graham Verchere, Judah Lewis, Caleb Emery, Co...</td>\n",
       "      <td>[Graham Verchere, Judah Lewis, Caleb Emery, Be...</td>\n",
       "      <td>2620</td>\n",
       "      <td>34298</td>\n",
       "      <td>7699</td>\n",
       "    </tr>\n",
       "    <tr>\n",
       "      <th>1</th>\n",
       "      <td>male</td>\n",
       "      <td>[Chris Hemsworth, Michael Shannon, Michael Peñ...</td>\n",
       "      <td>[Chris Hemsworth, Michael Shannon, Michael Peñ...</td>\n",
       "      <td>22206</td>\n",
       "      <td>294704</td>\n",
       "      <td>65934</td>\n",
       "    </tr>\n",
       "  </tbody>\n",
       "</table>\n",
       "</div>"
      ],
      "text/plain": [
       "  dir_gen                                             actors  \\\n",
       "0  female  [Graham Verchere, Judah Lewis, Caleb Emery, Co...   \n",
       "1    male  [Chris Hemsworth, Michael Shannon, Michael Peñ...   \n",
       "\n",
       "                                        protagonists  n_movies  n_actors  \\\n",
       "0  [Graham Verchere, Judah Lewis, Caleb Emery, Be...      2620     34298   \n",
       "1  [Chris Hemsworth, Michael Shannon, Michael Peñ...     22206    294704   \n",
       "\n",
       "   n_pro  \n",
       "0   7699  \n",
       "1  65934  "
      ]
     },
     "execution_count": 6,
     "metadata": {},
     "output_type": "execute_result"
    }
   ],
   "source": [
    "# May take a couple of minutes.\n",
    "gender_df = gender_df.groupby('dir_gen', as_index = False).agg({'actors':'sum', 'protagonists':'sum', 'n_movies':'sum', 'n_actors':'sum', 'n_pro':'sum'})\n",
    "gender_df"
   ]
  },
  {
   "cell_type": "code",
   "execution_count": 9,
   "metadata": {},
   "outputs": [],
   "source": [
    "gender_df['act_male_perc'] = gender_df.apply(lambda row:\n",
    "                                             malePercentage(row, 'actors'),\n",
    "                                             axis = 1)\n",
    "gender_df['pro_male_perc'] = gender_df.apply(lambda row:\n",
    "                                             malePercentage(row,\n",
    "                                                            'protagonists'),\n",
    "                                             axis = 1)\n",
    "\n",
    "gender_df = gender_df.reindex(index=gender_df.index[::-1])\n",
    "gender_df = gender_df.drop(columns = ['actors', 'protagonists'])"
   ]
  },
  {
   "cell_type": "code",
   "execution_count": 10,
   "metadata": {},
   "outputs": [],
   "source": [
    "#gender_df.drop(columns = ['actors', 'protagonists']).to_json(\"gender_marimekko.json\", orient = 'records')"
   ]
  },
  {
   "cell_type": "code",
   "execution_count": 11,
   "metadata": {},
   "outputs": [],
   "source": [
    "# Some elaborations for the stacked bar plot.\n",
    "\n",
    "gender_df['non_pro_male_global'] = gender_df.apply(lambda row: (row.n_actors * row.act_male_perc - row.n_pro * row.pro_male_perc) / row.n_actors, axis = 1)\n",
    "gender_df['pro_male_global'] = gender_df.apply(lambda row: (row.n_pro * row.pro_male_perc) / row.n_actors, axis = 1)\n",
    "gender_df['non_pro_fem_global'] = gender_df.apply(lambda row: (row.n_actors * (1-row.act_male_perc) - row.n_pro * (1-row.pro_male_perc)) / row.n_actors, axis = 1)\n",
    "gender_df['pro_fem_global'] = gender_df.apply(lambda row: (row.n_pro * (1-row.pro_male_perc)) / row.n_actors, axis = 1)"
   ]
  },
  {
   "cell_type": "code",
   "execution_count": 12,
   "metadata": {},
   "outputs": [
    {
     "data": {
      "text/html": [
       "<div>\n",
       "<style scoped>\n",
       "    .dataframe tbody tr th:only-of-type {\n",
       "        vertical-align: middle;\n",
       "    }\n",
       "\n",
       "    .dataframe tbody tr th {\n",
       "        vertical-align: top;\n",
       "    }\n",
       "\n",
       "    .dataframe thead th {\n",
       "        text-align: right;\n",
       "    }\n",
       "</style>\n",
       "<table border=\"1\" class=\"dataframe\">\n",
       "  <thead>\n",
       "    <tr style=\"text-align: right;\">\n",
       "      <th></th>\n",
       "      <th>dir_gen</th>\n",
       "      <th>n_movies</th>\n",
       "      <th>n_actors</th>\n",
       "      <th>n_pro</th>\n",
       "      <th>act_male_perc</th>\n",
       "      <th>pro_male_perc</th>\n",
       "      <th>non_pro_male_global</th>\n",
       "      <th>pro_male_global</th>\n",
       "      <th>non_pro_fem_global</th>\n",
       "      <th>pro_fem_global</th>\n",
       "    </tr>\n",
       "  </thead>\n",
       "  <tbody>\n",
       "    <tr>\n",
       "      <th>1</th>\n",
       "      <td>male</td>\n",
       "      <td>22206</td>\n",
       "      <td>294704</td>\n",
       "      <td>65934</td>\n",
       "      <td>0.663395</td>\n",
       "      <td>0.665190</td>\n",
       "      <td>0.514573</td>\n",
       "      <td>0.148823</td>\n",
       "      <td>0.261698</td>\n",
       "      <td>0.074907</td>\n",
       "    </tr>\n",
       "    <tr>\n",
       "      <th>0</th>\n",
       "      <td>female</td>\n",
       "      <td>2620</td>\n",
       "      <td>34298</td>\n",
       "      <td>7699</td>\n",
       "      <td>0.572273</td>\n",
       "      <td>0.512658</td>\n",
       "      <td>0.457195</td>\n",
       "      <td>0.115078</td>\n",
       "      <td>0.318331</td>\n",
       "      <td>0.109395</td>\n",
       "    </tr>\n",
       "  </tbody>\n",
       "</table>\n",
       "</div>"
      ],
      "text/plain": [
       "  dir_gen  n_movies  n_actors  n_pro  act_male_perc  pro_male_perc  \\\n",
       "1    male     22206    294704  65934       0.663395       0.665190   \n",
       "0  female      2620     34298   7699       0.572273       0.512658   \n",
       "\n",
       "   non_pro_male_global  pro_male_global  non_pro_fem_global  pro_fem_global  \n",
       "1             0.514573         0.148823            0.261698        0.074907  \n",
       "0             0.457195         0.115078            0.318331        0.109395  "
      ]
     },
     "execution_count": 12,
     "metadata": {},
     "output_type": "execute_result"
    }
   ],
   "source": [
    "gender_df"
   ]
  },
  {
   "cell_type": "code",
   "execution_count": 13,
   "metadata": {},
   "outputs": [
    {
     "name": "stdout",
     "output_type": "stream",
     "text": [
      "[1. 1.]\n"
     ]
    }
   ],
   "source": [
    "# Extracting data for stacked bar plot.\n",
    "\n",
    "np_male = gender_df['non_pro_male_global'].values\n",
    "p_male = gender_df['pro_male_global'].values\n",
    "np_fem = gender_df['non_pro_fem_global'].values\n",
    "p_fem = gender_df['pro_fem_global'].values\n",
    "\n",
    "width_movies = gender_df['n_movies'].values\n",
    "width_movies = np.array([width_movies[0]/sum(width_movies), width_movies[1]/sum(width_movies)])\n",
    "\n",
    "# Checking wether they sum to unity.\n",
    "print(np_male + p_male + np_fem + p_fem)"
   ]
  },
  {
   "cell_type": "code",
   "execution_count": 14,
   "metadata": {},
   "outputs": [
    {
     "name": "stdout",
     "output_type": "stream",
     "text": [
      "[0.         0.25       0.5        0.66339531 0.57227332 0.75\n",
      " 1.        ]\n"
     ]
    },
    {
     "data": {
      "image/png": "[encoded data removed]",
      "text/plain": [
       "<Figure size 576x576 with 1 Axes>"
      ]
     },
     "metadata": {
      "needs_background": "light"
     },
     "output_type": "display_data"
    }
   ],
   "source": [
    "import matplotlib.ticker as mtick\n",
    "\n",
    "fig, ax = plt.subplots(figsize = (8,8))\n",
    "\n",
    "ax.set_aspect('equal')\n",
    "\n",
    "ax.set_xlim([0,1])\n",
    "ax.set_xticklabels([])\n",
    "ax.set_xticks([], [])\n",
    "\n",
    "ax.set_ylim([0,1])\n",
    "ax.yaxis.set_major_formatter(mtick.PercentFormatter(1.0))\n",
    "ax.set_yticks([0, .25, .5, np_male[0] + p_male[0], np_male[1] + p_male[1], .75, 1])\n",
    "labels = ax.get_yticks()\n",
    "print(labels)\n",
    "# Right y axes.\n",
    "ax.tick_params(labelright = True, right = True)\n",
    "\n",
    "\n",
    "width = width_movies\n",
    "r = [width[0]/2, width[0] + width[1]/2]\n",
    "\n",
    "ax.bar(r, np_male, width = width, color = '#D3E5FD', edgecolor = 'white', linewidth = 0)\n",
    "ax.bar(r, p_male, bottom = np_male, width = width, color = '#C0DAFD', edgecolor = 'white', linewidth = 0)\n",
    "ax.bar(r, p_fem, bottom = [i+j for i,j in zip(np_male, p_male)], width = width, color = '#FED6E2', edgecolor = 'white', linewidth = 0)\n",
    "ax.bar(r, np_fem, bottom = [i+j+k for i,j,k in zip(np_male, p_male, p_fem)], width = width, color = '#FDE9EF', edgecolor = 'white', linewidth = 0)\n",
    "\n",
    "# Lines to make it prettier.\n",
    "ax.axvline(x = width[0], color = 'white', linewidth = 2)\n",
    "ax.axhline(y = np_male[0] + p_male[0], xmax = width[0], color = 'white', linewidth = 2)\n",
    "ax.axhline(y = np_male[1] + p_male[1], xmin = width[0], color = 'white', linewidth = 2)\n",
    "\n",
    "# Titles and annotations.\n",
    "\n",
    "title = \"Actor gender vs director gender\"\n",
    "data_source = \"Data source: https://github.com/dojutsu-user/IMDB-Scraper\"\n",
    "\n",
    "ax.set_title(title)\n",
    "ax.set_xlabel(\"Movies\")\n",
    "ax.set_ylabel(\"Actors\")\n",
    "ax.annotate(data_source,\n",
    "            color='dimgray',\n",
    "            xy=(0, 0), \n",
    "            xycoords='figure fraction',\n",
    "            xytext=(30, 0),  \n",
    "            textcoords='offset points',\n",
    "            ha='left', va='bottom')\n",
    "#ax.legend(['male non protagonist', 'male protagonist', 'female protagonist', 'female non protagonist'])\n",
    "plt.savefig(\"mekko.pdf\")"
   ]
  },
  {
   "cell_type": "code",
   "execution_count": 22,
   "metadata": {},
   "outputs": [
    {
     "data": {
      "text/plain": [
       "array([0.26169787, 0.31833125])"
      ]
     },
     "execution_count": 22,
     "metadata": {},
     "output_type": "execute_result"
    }
   ],
   "source": [
    "np_fem"
   ]
  },
  {
   "cell_type": "code",
   "execution_count": null,
   "metadata": {},
   "outputs": [],
   "source": []
  }
 ],
 "metadata": {
  "kernelspec": {
   "display_name": "Python 3",
   "language": "python",
   "name": "python3"
  },
  "language_info": {
   "codemirror_mode": {
    "name": "ipython",
    "version": 3
   },
   "file_extension": ".py",
   "mimetype": "text/x-python",
   "name": "python",
   "nbconvert_exporter": "python",
   "pygments_lexer": "ipython3",
   "version": "3.7.3"
  }
 },
 "nbformat": 4,
 "nbformat_minor": 4
}
