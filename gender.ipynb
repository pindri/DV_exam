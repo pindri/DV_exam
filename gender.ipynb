{
 "cells": [
  {
   "cell_type": "markdown",
   "metadata": {},
   "source": [
    "# Gender distsribution across the years."
   ]
  },
  {
   "cell_type": "markdown",
   "metadata": {},
   "source": [
    "In order to decide the gender of a person, the `gender_guesser` library can be used to analyse the first name. Running\n",
    "```python\n",
    "import sys\n",
    "!{sys.executable} -m pip install gender_guesser --user\n",
    "```\n",
    "should install the package."
   ]
  },
  {
   "cell_type": "code",
   "execution_count": 2,
   "metadata": {},
   "outputs": [],
   "source": [
    "import gender_guesser.detector as gender # Gender detector for first names.\n",
    "import pandas as pd\n",
    "import json\n",
    "import matplotlib.pyplot as plt"
   ]
  },
  {
   "cell_type": "code",
   "execution_count": 3,
   "metadata": {},
   "outputs": [],
   "source": [
    "df = pd.read_json(\"imdb_dataset_parsed.json\")\n",
    "\n",
    "# Keep only useful columns and remove NaNs.\n",
    "df = pd.DataFrame(df[['year', 'actors', 'directors']].dropna())\n",
    "\n",
    "df['year'] = df['year'].astype(int)\n",
    "\n",
    "# Aggregate entries by year.\n",
    "df = df.groupby('year', as_index = False).agg({'actors':'sum', 'directors':'sum'})\n",
    "\n",
    "# 2019 has very few entries, drop that row.\n",
    "df = df[df['year'] != 2019]"
   ]
  },
  {
   "cell_type": "code",
   "execution_count": 4,
   "metadata": {},
   "outputs": [],
   "source": [
    "def malePercentage(row, column_name):\n",
    "    actors_list = row[column_name]\n",
    "    genders = []\n",
    "    \n",
    "    # Load gender detector.\n",
    "    d = gender.Detector(case_sensitive = False)\n",
    "    \n",
    "    for name in actors_list:\n",
    "        name = name.split(' ')\n",
    "        # Transforms names like ['J.', 'Stuart', 'Blackton'] in ['Stuart', 'Blackton'].\n",
    "        name = [x for x in name if not x.endswith(\".\")]\n",
    "        # Some names might now be empty.\n",
    "        if name:\n",
    "            genders.append(d.get_gender(name[0]))\n",
    "        \n",
    "    # Consider only 'male' or 'female' results,\n",
    "    # excluding 'unknown', 'mostly_male' and 'mostly_female'.\n",
    "    genders = list(filter(lambda gen: gen == 'male' or gen == 'female', genders))\n",
    "        \n",
    "    return genders.count('male')/len(genders)"
   ]
  },
  {
   "cell_type": "code",
   "execution_count": 5,
   "metadata": {},
   "outputs": [],
   "source": [
    "df['act_male_perc'] = df.apply(lambda row: malePercentage(row, 'actors'), axis = 1)\n",
    "df['dir_male_perc'] = df.apply(lambda row: malePercentage(row, 'directors'), axis = 1)"
   ]
  },
  {
   "cell_type": "code",
   "execution_count": 9,
   "metadata": {},
   "outputs": [
    {
     "data": {
      "text/html": [
       "<div>\n",
       "<style scoped>\n",
       "    .dataframe tbody tr th:only-of-type {\n",
       "        vertical-align: middle;\n",
       "    }\n",
       "\n",
       "    .dataframe tbody tr th {\n",
       "        vertical-align: top;\n",
       "    }\n",
       "\n",
       "    .dataframe thead th {\n",
       "        text-align: right;\n",
       "    }\n",
       "</style>\n",
       "<table border=\"1\" class=\"dataframe\">\n",
       "  <thead>\n",
       "    <tr style=\"text-align: right;\">\n",
       "      <th></th>\n",
       "      <th>year</th>\n",
       "      <th>actors</th>\n",
       "      <th>directors</th>\n",
       "      <th>act_male_perc</th>\n",
       "      <th>dir_male_perc</th>\n",
       "    </tr>\n",
       "  </thead>\n",
       "  <tbody>\n",
       "    <tr>\n",
       "      <th>0</th>\n",
       "      <td>1910</td>\n",
       "      <td>[Marcia Moore, Roscoe 'Fatty' Arbuckle, Nick C...</td>\n",
       "      <td>[Otis Turner, Tom Santschi, Theodore Wharton, ...</td>\n",
       "      <td>0.687500</td>\n",
       "      <td>1.000000</td>\n",
       "    </tr>\n",
       "    <tr>\n",
       "      <th>1</th>\n",
       "      <td>1911</td>\n",
       "      <td>[Wilfred Lucas, Claire McDowell, Edna Foster, ...</td>\n",
       "      <td>[D.W. Griffith, Sidney Olcott]</td>\n",
       "      <td>0.666667</td>\n",
       "      <td>1.000000</td>\n",
       "    </tr>\n",
       "    <tr>\n",
       "      <th>2</th>\n",
       "      <td>1912</td>\n",
       "      <td>[Robert Gemp, Frederick Warde, Albert Gardner,...</td>\n",
       "      <td>[André Calmettes, James Keane, J. Stuart Black...</td>\n",
       "      <td>0.720000</td>\n",
       "      <td>1.000000</td>\n",
       "    </tr>\n",
       "    <tr>\n",
       "      <th>3</th>\n",
       "      <td>1913</td>\n",
       "      <td>[Mary Pickford, Owen Moore, Ernest Truex, Ogde...</td>\n",
       "      <td>[J. Searle Dawley, Alice Guy, Charles Giblyn, ...</td>\n",
       "      <td>0.728916</td>\n",
       "      <td>0.950000</td>\n",
       "    </tr>\n",
       "    <tr>\n",
       "      <th>4</th>\n",
       "      <td>1914</td>\n",
       "      <td>[George Nash, Gail Kane, Julia Hurley, Robert ...</td>\n",
       "      <td>[George Irving, Jack Pratt, 1 more credit, Lou...</td>\n",
       "      <td>0.683250</td>\n",
       "      <td>0.952941</td>\n",
       "    </tr>\n",
       "  </tbody>\n",
       "</table>\n",
       "</div>"
      ],
      "text/plain": [
       "   year                                             actors  \\\n",
       "0  1910  [Marcia Moore, Roscoe 'Fatty' Arbuckle, Nick C...   \n",
       "1  1911  [Wilfred Lucas, Claire McDowell, Edna Foster, ...   \n",
       "2  1912  [Robert Gemp, Frederick Warde, Albert Gardner,...   \n",
       "3  1913  [Mary Pickford, Owen Moore, Ernest Truex, Ogde...   \n",
       "4  1914  [George Nash, Gail Kane, Julia Hurley, Robert ...   \n",
       "\n",
       "                                           directors  act_male_perc  \\\n",
       "0  [Otis Turner, Tom Santschi, Theodore Wharton, ...       0.687500   \n",
       "1                     [D.W. Griffith, Sidney Olcott]       0.666667   \n",
       "2  [André Calmettes, James Keane, J. Stuart Black...       0.720000   \n",
       "3  [J. Searle Dawley, Alice Guy, Charles Giblyn, ...       0.728916   \n",
       "4  [George Irving, Jack Pratt, 1 more credit, Lou...       0.683250   \n",
       "\n",
       "   dir_male_perc  \n",
       "0       1.000000  \n",
       "1       1.000000  \n",
       "2       1.000000  \n",
       "3       0.950000  \n",
       "4       0.952941  "
      ]
     },
     "execution_count": 9,
     "metadata": {},
     "output_type": "execute_result"
    }
   ],
   "source": [
    "df.head()"
   ]
  },
  {
   "cell_type": "code",
   "execution_count": 18,
   "metadata": {},
   "outputs": [
    {
     "data": {
      "text/plain": [
       "<matplotlib.axes._subplots.AxesSubplot at 0x7f8ad3dd2048>"
      ]
     },
     "execution_count": 18,
     "metadata": {},
     "output_type": "execute_result"
    },
    {
     "data": {
      "image/png": "[encoded data removed]",
      "text/plain": [
       "<Figure size 432x288 with 1 Axes>"
      ]
     },
     "metadata": {
      "needs_background": "light"
     },
     "output_type": "display_data"
    }
   ],
   "source": [
    "df.plot(x = 'year', y = 'act_male_perc', ylim = (0, 1))"
   ]
  },
  {
   "cell_type": "code",
   "execution_count": 17,
   "metadata": {},
   "outputs": [
    {
     "data": {
      "text/plain": [
       "<matplotlib.axes._subplots.AxesSubplot at 0x7f8ad3e53390>"
      ]
     },
     "execution_count": 17,
     "metadata": {},
     "output_type": "execute_result"
    },
    {
     "data": {
      "image/png": "[encoded data removed]",
      "text/plain": [
       "<Figure size 432x288 with 1 Axes>"
      ]
     },
     "metadata": {
      "needs_background": "light"
     },
     "output_type": "display_data"
    }
   ],
   "source": [
    "df.plot(x = 'year', y = 'dir_male_perc', ylim = (0, 1))"
   ]
  },
  {
   "cell_type": "code",
   "execution_count": null,
   "metadata": {},
   "outputs": [],
   "source": []
  }
 ],
 "metadata": {
  "kernelspec": {
   "display_name": "Python 3",
   "language": "python",
   "name": "python3"
  },
  "language_info": {
   "codemirror_mode": {
    "name": "ipython",
    "version": 3
   },
   "file_extension": ".py",
   "mimetype": "text/x-python",
   "name": "python",
   "nbconvert_exporter": "python",
   "pygments_lexer": "ipython3",
   "version": "3.7.3"
  }
 },
 "nbformat": 4,
 "nbformat_minor": 4
}
